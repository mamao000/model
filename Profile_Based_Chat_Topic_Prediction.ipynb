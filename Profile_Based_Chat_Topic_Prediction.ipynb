{
  "nbformat": 4,
  "nbformat_minor": 0,
  "metadata": {
    "colab": {
      "provenance": []
    },
    "kernelspec": {
      "name": "python3",
      "display_name": "Python 3"
    },
    "language_info": {
      "name": "python"
    }
  },
  "cells": [
    {
      "cell_type": "code",
      "source": [
        "import pandas as pd\n",
        "import numpy as np\n",
        "import tensorflow as tf\n",
        "def one_hot_encode(data):\n",
        "\n",
        "  # 分類數量\n",
        "  num_classes = 10\n",
        "  min_birth_year = min(data['birth_year'])\n",
        "  max_birth_year = max(data['birth_year'])\n",
        "  interval = (max_birth_year - min_birth_year) // num_classes\n",
        "  birth_year_categories = []\n",
        "  for year in data['birth_year']:\n",
        "    category = (year - min_birth_year) // interval\n",
        "    birth_year_categories.append(category)\n",
        "\n",
        "  gender_categories = ['male', 'female']\n",
        "  zodiac_categories = ['Aquarius', 'Pisces', 'Aries', 'Taurus', 'Gemini', 'Cancer', 'Leo', 'Virgo', 'Libra', 'Scorpio', 'Sagittarius', 'Capricorn']\n",
        "  state_categories = ['Alabama', 'Alaska', 'Arizona', 'Arkansas', 'California', 'Colorado', 'Connecticut', 'Delaware', 'Florida', 'Georgia', 'Hawaii', 'Idaho', 'Illinois', 'Indiana', 'Iowa', 'Kansas', 'Kentucky', 'Louisiana', 'Maine', 'Maryland', 'Massachusetts', 'Michigan', 'Minnesota', 'Mississippi', 'Missouri', 'Montana', 'Nebraska', 'Nevada', 'New Hampshire', 'New Jersey', 'New Mexico', 'New York', 'North Carolina', 'North Dakota', 'Ohio', 'Oklahoma', 'Oregon', 'Pennsylvania', 'Rhode Island', 'South Carolina', 'South Dakota', 'Tennessee', 'Texas', 'Utah', 'Vermont', 'Virginia', 'Washington', 'West Virginia', 'Wisconsin', 'Wyoming']\n",
        "  education_categories = ['Elementary school', 'Middle school', 'High school', 'University', 'Graduate School']\n",
        "\n",
        "  # 將各特徵進行 One-Hot Encoding\n",
        "  gender_one_hot = tf.one_hot(data['gender'].apply(lambda x: gender_categories.index(x)), depth=len(gender_categories))\n",
        "  birth_year_one_hot = tf.one_hot(birth_year_categories, depth=num_classes)\n",
        "  zodiac_one_hot = tf.one_hot(data['zodiac'].apply(lambda x: zodiac_categories.index(x)), depth=len(zodiac_categories))\n",
        "  state_one_hot = tf.one_hot(data['state'].apply(lambda x: state_categories.index(x)), depth=len(state_categories))\n",
        "  education_one_hot = tf.one_hot(data['education'].apply(lambda x: education_categories.index(x)), depth=len(education_categories))\n",
        "\n",
        "  # 將 Tensor 轉換為 Numpy Array\n",
        "  gender_one_hot_np = np.array(gender_one_hot)\n",
        "  birth_year_one_hot_np = np.array(birth_year_one_hot)\n",
        "  zodiac_one_hot_np = np.array(zodiac_one_hot)\n",
        "  state_one_hot_np = np.array(state_one_hot)\n",
        "  education_one_hot_np = np.array(education_one_hot)\n",
        "\n",
        "  # 將所有特徵合併\n",
        "  all_features = np.concatenate([gender_one_hot_np, birth_year_one_hot_np, zodiac_one_hot_np, state_one_hot_np, education_one_hot_np], axis=1)\n",
        "\n",
        "  print(all_features)\n",
        "  print(all_features.shape)"
      ],
      "metadata": {
        "id": "ECCm0AFhzA9i"
      },
      "execution_count": null,
      "outputs": []
    },
    {
      "cell_type": "code",
      "execution_count": null,
      "metadata": {
        "id": "u9YVouGdV-27"
      },
      "outputs": [],
      "source": [
        "import numpy as np\n",
        "import pandas as pd\n",
        "from sklearn.preprocessing import StandardScaler\n",
        "from tensorflow.keras.models import Sequential\n",
        "from tensorflow.keras.layers import Dense, Dropout\n",
        "from tensorflow.keras.optimizers import Adam\n",
        "from tensorflow.keras.regularizers import l2\n",
        "\n",
        "class ProfileBasedTopicPredictionModel:\n",
        "    \n",
        "    def __init__(self, input_dim, output_dim):\n",
        "        self.features = ['gender', 'birth_year', 'zodiac', 'state', 'education']\n",
        "        self.bigfive = ['openness', 'conscientiousness', 'extraversion', 'agreeableness', 'neuroticism']\n",
        "        self.input_dim = input_dim\n",
        "        self.output_dim = output_dim\n",
        "        self.model = None\n",
        "        \n",
        "    def build_model(self):\n",
        "        self.model = Sequential()\n",
        "        self.model.add(Dense(128, activation='relu', input_dim=self.input_dim, kernel_initializer='he_uniform', kernel_regularizer=l2(0.01)))\n",
        "        self.model.add(Dropout(0.5))\n",
        "        self.model.add(Dense(64, activation='relu', kernel_initializer='he_uniform', kernel_regularizer=l2(0.01)))\n",
        "        self.model.add(Dropout(0.3))\n",
        "        self.model.add(Dense(self.output_dim, activation='softmax'))\n",
        "        self.model.compile(loss='categorical_crossentropy', optimizer=Adam(lr=0.001), metrics=['accuracy'])\n",
        "        \n",
        "    def train_model(self, df, batch_size, epochs):\n",
        "        X_Feature = df[self.features]\n",
        "        X_BigFive = df[self.bigfive]\n",
        "\n",
        "        #將feature進行one_hot\n",
        "        X_Feature = one_hot_encode(X_Feature)\n",
        "        \n",
        "        #將bigfive標準化\n",
        "        scaler = StandardScaler()\n",
        "        X_BigFive = scaler.fit_transform(X_BigFive)\n",
        "        X_BigFive = np.array(X_BigFive)\n",
        "\n",
        "        #合併feature及bigfive\n",
        "        X_train = np.concatenate([X_Feature, X_BigFive],axis=1)\n",
        "\n",
        "        self.model.fit(X_train, y_train, batch_size=batch_size, epochs=epochs, verbose=1)\n",
        "        \n",
        "    def predict_topics(self, user_profile):\n",
        "        user_profile = np.array(user_profile).reshape(1, -1)\n",
        "        scaler = StandardScaler()\n",
        "        user_profile = scaler.fit_transform(user_profile)\n",
        "        prediction = self.model.predict(user_profile)\n",
        "        return prediction[0]\n"
      ]
    }
  ]
}